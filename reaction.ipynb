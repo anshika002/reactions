{
 "cells": [
  {
   "cell_type": "code",
   "execution_count": 1,
   "id": "93ea732d",
   "metadata": {},
   "outputs": [
    {
     "name": "stdout",
     "output_type": "stream",
     "text": [
      "Collecting text2emotion\n",
      "  Downloading text2emotion-0.0.5-py3-none-any.whl (57 kB)\n",
      "Requirement already satisfied: nltk in c:\\users\\user\\anaconda3.2\\lib\\site-packages (from text2emotion) (3.6.1)\n",
      "Collecting emoji>=0.6.0\n",
      "  Downloading emoji-1.2.0-py3-none-any.whl (131 kB)\n",
      "Requirement already satisfied: joblib in c:\\users\\user\\anaconda3.2\\lib\\site-packages (from nltk->text2emotion) (1.0.1)\n",
      "Requirement already satisfied: tqdm in c:\\users\\user\\anaconda3.2\\lib\\site-packages (from nltk->text2emotion) (4.59.0)\n",
      "Requirement already satisfied: click in c:\\users\\user\\anaconda3.2\\lib\\site-packages (from nltk->text2emotion) (7.1.2)\n",
      "Requirement already satisfied: regex in c:\\users\\user\\anaconda3.2\\lib\\site-packages (from nltk->text2emotion) (2021.4.4)\n",
      "Installing collected packages: emoji, text2emotion\n",
      "Successfully installed emoji-1.2.0 text2emotion-0.0.5\n"
     ]
    }
   ],
   "source": [
    "! pip install text2emotion"
   ]
  },
  {
   "cell_type": "code",
   "execution_count": 2,
   "id": "d1b14ddf",
   "metadata": {},
   "outputs": [
    {
     "name": "stderr",
     "output_type": "stream",
     "text": [
      "[nltk_data] Downloading package stopwords to\n",
      "[nltk_data]     C:\\Users\\User\\AppData\\Roaming\\nltk_data...\n",
      "[nltk_data]   Unzipping corpora\\stopwords.zip.\n",
      "[nltk_data] Downloading package punkt to\n",
      "[nltk_data]     C:\\Users\\User\\AppData\\Roaming\\nltk_data...\n",
      "[nltk_data]   Unzipping tokenizers\\punkt.zip.\n",
      "[nltk_data] Downloading package wordnet to\n",
      "[nltk_data]     C:\\Users\\User\\AppData\\Roaming\\nltk_data...\n",
      "[nltk_data]   Unzipping corpora\\wordnet.zip.\n"
     ]
    }
   ],
   "source": [
    "import text2emotion as te"
   ]
  },
  {
   "cell_type": "code",
   "execution_count": 3,
   "id": "ca422e02",
   "metadata": {},
   "outputs": [
    {
     "data": {
      "text/plain": [
       "{'Happy': 0.5, 'Angry': 0.0, 'Surprise': 0.5, 'Sad': 0.0, 'Fear': 0.0}"
      ]
     },
     "execution_count": 3,
     "metadata": {},
     "output_type": "execute_result"
    }
   ],
   "source": [
    "sentence = 'I am very happy for my brother'\n",
    "te.get_emotion(sentence)"
   ]
  },
  {
   "cell_type": "code",
   "execution_count": null,
   "id": "e047eef1",
   "metadata": {},
   "outputs": [],
   "source": []
  }
 ],
 "metadata": {
  "kernelspec": {
   "display_name": "Python 3",
   "language": "python",
   "name": "python3"
  },
  "language_info": {
   "codemirror_mode": {
    "name": "ipython",
    "version": 3
   },
   "file_extension": ".py",
   "mimetype": "text/x-python",
   "name": "python",
   "nbconvert_exporter": "python",
   "pygments_lexer": "ipython3",
   "version": "3.8.8"
  }
 },
 "nbformat": 4,
 "nbformat_minor": 5
}
